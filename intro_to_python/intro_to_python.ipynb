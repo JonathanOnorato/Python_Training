{
 "cells": [
  {
   "cell_type": "markdown",
   "metadata": {},
   "source": [
    "# Intro to Python\n",
    "\n",
    "****\n",
    "\n",
    "Hello and welcome to a quick dive into basic python functions that we (Wes Tatum and Jon Onorato) think are going to be useful to you as a member of the Luscombe Lab. "
   ]
  },
  {
   "cell_type": "markdown",
   "metadata": {},
   "source": [
    "# Pandas\n",
    "\n",
    "***\n",
    "\n",
    "Pandas is a data manipulation system within Python. In a lot of ways, it's easy to think of it as being similar to Microsoft Excel, as it has a somewhat similar structure. Instead of sheets, data is stored within something called a Dataframe. Dataframes have rows and columns, just like you would for an Excel sheet. \n",
    "\n",
    "\n",
    "*MAKE A TABLE THAT SHOWS THE GENERAL SHAPE AND STRUCTURE OF A PANDAS DATAFRAME*\n",
    "\n",
    "\n",
    "Pandas is a convenient tool for data storage, and for interacting with it with Python. We'll go through the process of building a Pandas Dataframe, either using Python, or by uploading from an excel document or a .txt file. \n",
    "\n",
    "First, we'll build a dataframe from the ground up, within Python, to give you a better feel for how this works. \n",
    "\n",
    "To do this, we'll need to first import Pandas. Pandas is a commonly used tool, and most of the time the Python community refers to it as \"pd\" instead of \"pandas\" within their code lines. As such, when we import it we will import it with an *alias* of \"pd\", which means that when we want to call pandas, we just have to type \"pd\". This isn't a critical step, but it's something that will feel very natural with time. "
   ]
  },
  {
   "cell_type": "code",
   "execution_count": 1,
   "metadata": {},
   "outputs": [],
   "source": [
    "#When we use \"as\", that's what is assigning the alias to pandas.\n",
    "import pandas as pd"
   ]
  },
  {
   "cell_type": "code",
   "execution_count": null,
   "metadata": {},
   "outputs": [],
   "source": []
  },
  {
   "cell_type": "code",
   "execution_count": null,
   "metadata": {},
   "outputs": [],
   "source": []
  },
  {
   "cell_type": "code",
   "execution_count": null,
   "metadata": {},
   "outputs": [],
   "source": []
  }
 ],
 "metadata": {
  "kernelspec": {
   "display_name": "Python 3",
   "language": "python",
   "name": "python3"
  },
  "language_info": {
   "codemirror_mode": {
    "name": "ipython",
    "version": 3
   },
   "file_extension": ".py",
   "mimetype": "text/x-python",
   "name": "python",
   "nbconvert_exporter": "python",
   "pygments_lexer": "ipython3",
   "version": "3.7.4"
  }
 },
 "nbformat": 4,
 "nbformat_minor": 2
}
