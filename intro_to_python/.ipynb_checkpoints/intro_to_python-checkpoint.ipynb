{
 "cells": [
  {
   "cell_type": "markdown",
   "metadata": {},
   "source": [
    "# Intro to Python\n",
    "\n",
    "****\n",
    "\n",
    "Hello and welcome to a quick dive into basic python functions that we (Wes Tatum and Jon Onorato) think are going to be useful to you as a member of the Luscombe Lab. "
   ]
  },
  {
   "cell_type": "markdown",
   "metadata": {},
   "source": [
    "# Pandas\n",
    "\n",
    "***\n",
    "\n",
    "Pandas is a data manipulation system within Python. In a lot of ways, it's easy to think of it as being similar to Microsoft Excel, as it has a somewhat similar structure. Instead of sheets, data is stored within something called a Dataframe. Dataframes have rows and columns, just like you would in an Excel sheet. The row and column names and values can be integers or strings. These cell values can also be lists of values\n",
    "\n",
    "| ... | Column 0 | Column 1 | Column 2 | ... | Cell Y |\n",
    "| --- | --- | --- | --- | --- | --- |\n",
    "| Row 0 | Cell 00 | Cell 01 | Cell 02 | ... | Cell 0Y |\n",
    "| Row 1| Cell 10 | Cell 11 | Cell 12 | ... | Cell 1Y |\n",
    "| ... | ... | ... | ... | ... | ... | ... |\n",
    "| Row 2 | Cell X0 | Cell X1 | Cell 12 | ... | Cell XY |\n",
    "\n",
    "Pandas is a convenient tool for data storage, and for interacting with it with Python. We'll go through the process of building a Pandas Dataframe, either using Python, or by uploading from an excel document or a .txt file. \n",
    "\n",
    "First, we'll build a dataframe from the ground up, within Python, to give you a better feel for how this works. \n",
    "\n",
    "To do this, we'll need to first import Pandas. Pandas is a commonly used tool, and most of the time the Python community refers to it as \"pd\" instead of \"pandas\" within their code lines. As such, when we import it we will import it with an *alias* of \"pd\", which means that when we want to call pandas, we just have to type \"pd\"."
   ]
  },
  {
   "cell_type": "code",
   "execution_count": 1,
   "metadata": {
    "scrolled": true
   },
   "outputs": [],
   "source": [
    "#When we use \"as\", that's what is assigning the alias to pandas.\n",
    "import pandas as pd"
   ]
  },
  {
   "cell_type": "markdown",
   "metadata": {},
   "source": [
    "Import statements like the above make the installed code available to Python in this notebook. This is necessary because it simplifies how many possible code packages Python has to search through to figure out what you're trying to do. \n",
    "\n",
    "Ok, now  that we have pandas available to us, let's use it to build a dataframe. Pandas allows you to do this through the function `DataFrame()`. NOTE THAT THE 'F' IS CAPITALIZED! This is a very common error for people when learning pandas. We'll need to prepare some data for our toy dataframe. We'll do this three different ways - with a set of series, with a dictionary, and directly in the initialization statement. "
   ]
  },
  {
   "cell_type": "code",
   "execution_count": 4,
   "metadata": {},
   "outputs": [],
   "source": [
    "series_1 = [1, 12]\n",
    "series_2 = [5, 6]\n",
    "series_3 = [9, 2]\n",
    "series_names = ['x', 'y']\n",
    "dict_1 = {'x': [1, 5, 9], 'y': [12, 6, 2]}\n",
    "\n",
    "series_df = pd.DataFrame([series_1, series_2, series_3], columns = series_names)\n",
    "dict_df = pd.DataFrame(dict_1)\n",
    "\n",
    "direct_df = pd.DataFrame([[1, 12], [5, 6], [9, 2]], columns = ['x', 'y'])"
   ]
  },
  {
   "cell_type": "code",
   "execution_count": 5,
   "metadata": {},
   "outputs": [
    {
     "data": {
      "text/html": [
       "<div>\n",
       "<style scoped>\n",
       "    .dataframe tbody tr th:only-of-type {\n",
       "        vertical-align: middle;\n",
       "    }\n",
       "\n",
       "    .dataframe tbody tr th {\n",
       "        vertical-align: top;\n",
       "    }\n",
       "\n",
       "    .dataframe thead th {\n",
       "        text-align: right;\n",
       "    }\n",
       "</style>\n",
       "<table border=\"1\" class=\"dataframe\">\n",
       "  <thead>\n",
       "    <tr style=\"text-align: right;\">\n",
       "      <th></th>\n",
       "      <th>x</th>\n",
       "      <th>y</th>\n",
       "    </tr>\n",
       "  </thead>\n",
       "  <tbody>\n",
       "    <tr>\n",
       "      <td>0</td>\n",
       "      <td>1</td>\n",
       "      <td>12</td>\n",
       "    </tr>\n",
       "    <tr>\n",
       "      <td>1</td>\n",
       "      <td>5</td>\n",
       "      <td>6</td>\n",
       "    </tr>\n",
       "    <tr>\n",
       "      <td>2</td>\n",
       "      <td>9</td>\n",
       "      <td>2</td>\n",
       "    </tr>\n",
       "  </tbody>\n",
       "</table>\n",
       "</div>"
      ],
      "text/plain": [
       "   x   y\n",
       "0  1  12\n",
       "1  5   6\n",
       "2  9   2"
      ]
     },
     "execution_count": 5,
     "metadata": {},
     "output_type": "execute_result"
    }
   ],
   "source": [
    "series_df"
   ]
  },
  {
   "cell_type": "code",
   "execution_count": 6,
   "metadata": {},
   "outputs": [
    {
     "data": {
      "text/html": [
       "<div>\n",
       "<style scoped>\n",
       "    .dataframe tbody tr th:only-of-type {\n",
       "        vertical-align: middle;\n",
       "    }\n",
       "\n",
       "    .dataframe tbody tr th {\n",
       "        vertical-align: top;\n",
       "    }\n",
       "\n",
       "    .dataframe thead th {\n",
       "        text-align: right;\n",
       "    }\n",
       "</style>\n",
       "<table border=\"1\" class=\"dataframe\">\n",
       "  <thead>\n",
       "    <tr style=\"text-align: right;\">\n",
       "      <th></th>\n",
       "      <th>x</th>\n",
       "      <th>y</th>\n",
       "    </tr>\n",
       "  </thead>\n",
       "  <tbody>\n",
       "    <tr>\n",
       "      <td>0</td>\n",
       "      <td>1</td>\n",
       "      <td>12</td>\n",
       "    </tr>\n",
       "    <tr>\n",
       "      <td>1</td>\n",
       "      <td>5</td>\n",
       "      <td>6</td>\n",
       "    </tr>\n",
       "    <tr>\n",
       "      <td>2</td>\n",
       "      <td>9</td>\n",
       "      <td>2</td>\n",
       "    </tr>\n",
       "  </tbody>\n",
       "</table>\n",
       "</div>"
      ],
      "text/plain": [
       "   x   y\n",
       "0  1  12\n",
       "1  5   6\n",
       "2  9   2"
      ]
     },
     "execution_count": 6,
     "metadata": {},
     "output_type": "execute_result"
    }
   ],
   "source": [
    "dict_df"
   ]
  },
  {
   "cell_type": "code",
   "execution_count": 7,
   "metadata": {},
   "outputs": [
    {
     "data": {
      "text/html": [
       "<div>\n",
       "<style scoped>\n",
       "    .dataframe tbody tr th:only-of-type {\n",
       "        vertical-align: middle;\n",
       "    }\n",
       "\n",
       "    .dataframe tbody tr th {\n",
       "        vertical-align: top;\n",
       "    }\n",
       "\n",
       "    .dataframe thead th {\n",
       "        text-align: right;\n",
       "    }\n",
       "</style>\n",
       "<table border=\"1\" class=\"dataframe\">\n",
       "  <thead>\n",
       "    <tr style=\"text-align: right;\">\n",
       "      <th></th>\n",
       "      <th>x</th>\n",
       "      <th>y</th>\n",
       "    </tr>\n",
       "  </thead>\n",
       "  <tbody>\n",
       "    <tr>\n",
       "      <td>0</td>\n",
       "      <td>1</td>\n",
       "      <td>12</td>\n",
       "    </tr>\n",
       "    <tr>\n",
       "      <td>1</td>\n",
       "      <td>5</td>\n",
       "      <td>6</td>\n",
       "    </tr>\n",
       "    <tr>\n",
       "      <td>2</td>\n",
       "      <td>9</td>\n",
       "      <td>2</td>\n",
       "    </tr>\n",
       "  </tbody>\n",
       "</table>\n",
       "</div>"
      ],
      "text/plain": [
       "   x   y\n",
       "0  1  12\n",
       "1  5   6\n",
       "2  9   2"
      ]
     },
     "execution_count": 7,
     "metadata": {},
     "output_type": "execute_result"
    }
   ],
   "source": [
    "direct_df"
   ]
  },
  {
   "cell_type": "markdown",
   "metadata": {},
   "source": [
    "Each of these gives us the same final dataframe, but the way you have to construct it is very different. The way pandas is set up is very \"row-oriented\". \n",
    "\n",
    "All this being said, the most common way to put data into a dataframe is by importing it from an outside text file or excel spreadsheet. We'll cover that a bit more in-depth later in this notebook. For now, let's focus on manipulating our current data. \n",
    "\n",
    "The first thing we need to learn how to do is to access data in the dataframe. We can select everything based on on its indices, as well as by a column name. "
   ]
  },
  {
   "cell_type": "code",
   "execution_count": 8,
   "metadata": {},
   "outputs": [],
   "source": [
    "#Let's set our toy dataframe up, for simplicity.\n",
    "toy_df = direct_df.copy()"
   ]
  },
  {
   "cell_type": "code",
   "execution_count": 12,
   "metadata": {},
   "outputs": [
    {
     "name": "stdout",
     "output_type": "stream",
     "text": [
      "0    1\n",
      "1    5\n",
      "2    9\n",
      "Name: x, dtype: int64\n",
      "9\n",
      "9\n"
     ]
    }
   ],
   "source": [
    "#We can call individually all the x values:\n",
    "x_values = toy_df['x']\n",
    "x_values\n",
    "print (x_values)\n",
    "\n",
    "#We can also select an individual row and column, either directly, or from the x_values variable:\n",
    "print(toy_df['x'][2])\n",
    "print(x_values[2])\n",
    "\n",
    "#Remember that dataframes start with 0, meaning that the first row is row 0, not row 1. \n",
    "#So a dataframe with 3 entries only has a maximum row index of 2."
   ]
  },
  {
   "cell_type": "markdown",
   "metadata": {},
   "source": [
    "We can also pull out an entire row, using the `.iloc` feature."
   ]
  },
  {
   "cell_type": "code",
   "execution_count": 13,
   "metadata": {},
   "outputs": [
    {
     "name": "stdout",
     "output_type": "stream",
     "text": [
      "x    5\n",
      "y    6\n",
      "Name: 1, dtype: int64\n",
      "   x   y\n",
      "0  1  12\n",
      "1  5   6\n"
     ]
    }
   ],
   "source": [
    "#Pull all the values in row 1\n",
    "print(toy_df.iloc[1])\n",
    "\n",
    "#Or even multiple rows\n",
    "print(toy_df.iloc[[0,1]])"
   ]
  },
  {
   "cell_type": "markdown",
   "metadata": {},
   "source": [
    "Ok, so now that you're comfortable finding data in a pandas dataframe, let's look into one of the most common pieces of data manipulation you might want to do with a data frame. First, let's add a new column to our data, z, which is made from the equation x^2 - y.  "
   ]
  },
  {
   "cell_type": "code",
   "execution_count": 79,
   "metadata": {},
   "outputs": [
    {
     "name": "stdout",
     "output_type": "stream",
     "text": [
      "[-11, 19, 79]\n"
     ]
    }
   ],
   "source": [
    "#Prepare our data:\n",
    "z_series = [0, 0, 0]\n",
    "for i in (toy_df.index):\n",
    "    z_series[i] = ((toy_df['x'][i])**2) - (toy_df['y'][i])\n",
    "print(z_series)"
   ]
  },
  {
   "cell_type": "code",
   "execution_count": 80,
   "metadata": {},
   "outputs": [],
   "source": [
    "#Now actually generate a new column, 'z', and set it equal to the data. \n",
    "toy_df['z'] = z_series"
   ]
  },
  {
   "cell_type": "code",
   "execution_count": 81,
   "metadata": {},
   "outputs": [
    {
     "data": {
      "text/html": [
       "<div>\n",
       "<style scoped>\n",
       "    .dataframe tbody tr th:only-of-type {\n",
       "        vertical-align: middle;\n",
       "    }\n",
       "\n",
       "    .dataframe tbody tr th {\n",
       "        vertical-align: top;\n",
       "    }\n",
       "\n",
       "    .dataframe thead th {\n",
       "        text-align: right;\n",
       "    }\n",
       "</style>\n",
       "<table border=\"1\" class=\"dataframe\">\n",
       "  <thead>\n",
       "    <tr style=\"text-align: right;\">\n",
       "      <th></th>\n",
       "      <th>x</th>\n",
       "      <th>y</th>\n",
       "      <th>z</th>\n",
       "    </tr>\n",
       "  </thead>\n",
       "  <tbody>\n",
       "    <tr>\n",
       "      <td>0</td>\n",
       "      <td>1</td>\n",
       "      <td>12</td>\n",
       "      <td>-11</td>\n",
       "    </tr>\n",
       "    <tr>\n",
       "      <td>1</td>\n",
       "      <td>5</td>\n",
       "      <td>6</td>\n",
       "      <td>19</td>\n",
       "    </tr>\n",
       "    <tr>\n",
       "      <td>2</td>\n",
       "      <td>9</td>\n",
       "      <td>2</td>\n",
       "      <td>79</td>\n",
       "    </tr>\n",
       "  </tbody>\n",
       "</table>\n",
       "</div>"
      ],
      "text/plain": [
       "   x   y   z\n",
       "0  1  12 -11\n",
       "1  5   6  19\n",
       "2  9   2  79"
      ]
     },
     "execution_count": 81,
     "metadata": {},
     "output_type": "execute_result"
    }
   ],
   "source": [
    "toy_df"
   ]
  },
  {
   "cell_type": "markdown",
   "metadata": {},
   "source": [
    "Ok, so let's say we messed up and name things x, y, and z, but actually wanted them to be called a, b, and c. Easy fix!"
   ]
  },
  {
   "cell_type": "code",
   "execution_count": 82,
   "metadata": {},
   "outputs": [
    {
     "data": {
      "text/html": [
       "<div>\n",
       "<style scoped>\n",
       "    .dataframe tbody tr th:only-of-type {\n",
       "        vertical-align: middle;\n",
       "    }\n",
       "\n",
       "    .dataframe tbody tr th {\n",
       "        vertical-align: top;\n",
       "    }\n",
       "\n",
       "    .dataframe thead th {\n",
       "        text-align: right;\n",
       "    }\n",
       "</style>\n",
       "<table border=\"1\" class=\"dataframe\">\n",
       "  <thead>\n",
       "    <tr style=\"text-align: right;\">\n",
       "      <th></th>\n",
       "      <th>a</th>\n",
       "      <th>b</th>\n",
       "      <th>c</th>\n",
       "    </tr>\n",
       "  </thead>\n",
       "  <tbody>\n",
       "    <tr>\n",
       "      <td>0</td>\n",
       "      <td>1</td>\n",
       "      <td>12</td>\n",
       "      <td>-11</td>\n",
       "    </tr>\n",
       "    <tr>\n",
       "      <td>1</td>\n",
       "      <td>5</td>\n",
       "      <td>6</td>\n",
       "      <td>19</td>\n",
       "    </tr>\n",
       "    <tr>\n",
       "      <td>2</td>\n",
       "      <td>9</td>\n",
       "      <td>2</td>\n",
       "      <td>79</td>\n",
       "    </tr>\n",
       "  </tbody>\n",
       "</table>\n",
       "</div>"
      ],
      "text/plain": [
       "   a   b   c\n",
       "0  1  12 -11\n",
       "1  5   6  19\n",
       "2  9   2  79"
      ]
     },
     "execution_count": 82,
     "metadata": {},
     "output_type": "execute_result"
    }
   ],
   "source": [
    "toy_df.columns = ['a', 'b', 'c']\n",
    "toy_df"
   ]
  },
  {
   "cell_type": "markdown",
   "metadata": {},
   "source": [
    "Pandas also has several built in mathematical functions that might be useful. Standard deviations, averages, minimums, and maximums are all easily calculated from a pandas dataframe. std, avg, min, and max."
   ]
  },
  {
   "cell_type": "code",
   "execution_count": 83,
   "metadata": {},
   "outputs": [
    {
     "name": "stdout",
     "output_type": "stream",
     "text": [
      "Col. Std. = 4.0\n",
      "Row 2 Std. = 42.579337712087536\n"
     ]
    }
   ],
   "source": [
    "#Std per column is helpful:\n",
    "print(\"Col. A Std. = \" + str(toy_df['a'].std()))\n",
    "#But you can also do it by the row, if that helps: \n",
    "print(\"Row 2 Std. = \" + str(toy_df.iloc[2].std()))"
   ]
  },
  {
   "cell_type": "code",
   "execution_count": 95,
   "metadata": {},
   "outputs": [
    {
     "name": "stdout",
     "output_type": "stream",
     "text": [
      "Whole table average: a       5.000000\n",
      "b       6.666667\n",
      "c      29.000000\n",
      "Ave    13.555556\n",
      "dtype: float64\n",
      "Col. B average: 6.666666666666667\n",
      "Col. A and B average: a    5.000000\n",
      "b    6.666667\n",
      "dtype: float64\n",
      "Row 1 average: 10.0\n"
     ]
    },
    {
     "data": {
      "text/html": [
       "<div>\n",
       "<style scoped>\n",
       "    .dataframe tbody tr th:only-of-type {\n",
       "        vertical-align: middle;\n",
       "    }\n",
       "\n",
       "    .dataframe tbody tr th {\n",
       "        vertical-align: top;\n",
       "    }\n",
       "\n",
       "    .dataframe thead th {\n",
       "        text-align: right;\n",
       "    }\n",
       "</style>\n",
       "<table border=\"1\" class=\"dataframe\">\n",
       "  <thead>\n",
       "    <tr style=\"text-align: right;\">\n",
       "      <th></th>\n",
       "      <th>a</th>\n",
       "      <th>b</th>\n",
       "      <th>c</th>\n",
       "      <th>Ave</th>\n",
       "    </tr>\n",
       "  </thead>\n",
       "  <tbody>\n",
       "    <tr>\n",
       "      <td>0</td>\n",
       "      <td>1</td>\n",
       "      <td>12</td>\n",
       "      <td>-11</td>\n",
       "      <td>0.666667</td>\n",
       "    </tr>\n",
       "    <tr>\n",
       "      <td>1</td>\n",
       "      <td>5</td>\n",
       "      <td>6</td>\n",
       "      <td>19</td>\n",
       "      <td>10.000000</td>\n",
       "    </tr>\n",
       "    <tr>\n",
       "      <td>2</td>\n",
       "      <td>9</td>\n",
       "      <td>2</td>\n",
       "      <td>79</td>\n",
       "      <td>30.000000</td>\n",
       "    </tr>\n",
       "  </tbody>\n",
       "</table>\n",
       "</div>"
      ],
      "text/plain": [
       "   a   b   c        Ave\n",
       "0  1  12 -11   0.666667\n",
       "1  5   6  19  10.000000\n",
       "2  9   2  79  30.000000"
      ]
     },
     "execution_count": 95,
     "metadata": {},
     "output_type": "execute_result"
    }
   ],
   "source": [
    "#Averages could be useful for every column in table, a column, several columns, or by rows. \n",
    "print(\"Whole table average: \" + str(toy_df.mean()))\n",
    "print(\"Col. B average: \" + str(toy_df['b'].mean()))\n",
    "print(\"Col. A and B average: \" + str(toy_df[['a','b']].mean()))\n",
    "print(\"Row 1 average: \" + str(toy_df.iloc[1].mean()))\n",
    "\n",
    "#As a compound idea, let's make a new column, \"Ave\", in our dataframe to return the average of each row:\n",
    "#First we have to collect the averages for each row into a series:\n",
    "#(Note that normally we would just do the below as a loop instead, but this still works)\n",
    "averages = [toy_df.iloc[0].mean(), toy_df.iloc[1].mean(), toy_df.iloc[2].mean()]\n",
    "\n",
    "#And once we have the averages, we just insert a new column!\n",
    "toy_df['Ave'] = averages\n",
    "toy_df"
   ]
  },
  {
   "cell_type": "code",
   "execution_count": 98,
   "metadata": {},
   "outputs": [
    {
     "name": "stdout",
     "output_type": "stream",
     "text": [
      "Column A max: 9\n",
      "Column B min: 2\n"
     ]
    }
   ],
   "source": [
    "#Finally, mins and maxes\n",
    "print(\"Column A max: \" + str(toy_df['a'].max()))\n",
    "print(\"Column B min: \" + str(toy_df['b'].min()))"
   ]
  },
  {
   "cell_type": "markdown",
   "metadata": {},
   "source": [
    "Ok, now to bring several of these operations together in one place, let's do a complex combination of the above - Making a dataframe of all the places where one column had bigger than average values. This could be useful when looking for champion performing devices, for example."
   ]
  },
  {
   "cell_type": "code",
   "execution_count": 105,
   "metadata": {},
   "outputs": [
    {
     "data": {
      "text/html": [
       "<div>\n",
       "<style scoped>\n",
       "    .dataframe tbody tr th:only-of-type {\n",
       "        vertical-align: middle;\n",
       "    }\n",
       "\n",
       "    .dataframe tbody tr th {\n",
       "        vertical-align: top;\n",
       "    }\n",
       "\n",
       "    .dataframe thead th {\n",
       "        text-align: right;\n",
       "    }\n",
       "</style>\n",
       "<table border=\"1\" class=\"dataframe\">\n",
       "  <thead>\n",
       "    <tr style=\"text-align: right;\">\n",
       "      <th></th>\n",
       "      <th>a</th>\n",
       "      <th>b</th>\n",
       "      <th>c</th>\n",
       "      <th>Ave</th>\n",
       "    </tr>\n",
       "  </thead>\n",
       "  <tbody>\n",
       "    <tr>\n",
       "      <td>2</td>\n",
       "      <td>9.0</td>\n",
       "      <td>2.0</td>\n",
       "      <td>79.0</td>\n",
       "      <td>30.0</td>\n",
       "    </tr>\n",
       "  </tbody>\n",
       "</table>\n",
       "</div>"
      ],
      "text/plain": [
       "     a    b     c   Ave\n",
       "2  9.0  2.0  79.0  30.0"
      ]
     },
     "execution_count": 105,
     "metadata": {},
     "output_type": "execute_result"
    }
   ],
   "source": [
    "#Let's look at the situation from column \"C\"\n",
    "max_rows = []\n",
    "for i in toy_df.index:\n",
    "    if toy_df['c'][i] > toy_df['c'].mean():\n",
    "        max_rows.append(toy_df.iloc[i])\n",
    "above_ave_df = pd.DataFrame(max_rows)\n",
    "above_ave_df"
   ]
  },
  {
   "cell_type": "markdown",
   "metadata": {},
   "source": [
    "While we hope that this has answered all your questions and allows you to do everything you want in pandas, we're sure there's going to be stuff we didn't expect. Pandas has a tremendous amount of functionality, and it'd be impossible to cover everything. If there's something you want to try to do with pandas, you should definitely google it to see what's what. Odds are good someone has had your problem before too. "
   ]
  },
  {
   "cell_type": "markdown",
   "metadata": {},
   "source": [
    "### Real world example time:\n",
    "\n",
    "Ok, now that we've played around with some toy data, let's move on to using actual, real data. We'll start by loading in the data. Pandas has a really lovely function set called \"read_csv\" and \"read_excel\" which allow it to copy most of the structure from either an excel spreadsheet or a csv file. We'll make use of both of these in this tutorial. \n",
    "\n",
    "Once we've read in our real data, we'll also print it, to show you the format of our dataframe."
   ]
  },
  {
   "cell_type": "code",
   "execution_count": 4,
   "metadata": {},
   "outputs": [
    {
     "data": {
      "text/html": [
       "<div>\n",
       "<style scoped>\n",
       "    .dataframe tbody tr th:only-of-type {\n",
       "        vertical-align: middle;\n",
       "    }\n",
       "\n",
       "    .dataframe tbody tr th {\n",
       "        vertical-align: top;\n",
       "    }\n",
       "\n",
       "    .dataframe thead th {\n",
       "        text-align: right;\n",
       "    }\n",
       "</style>\n",
       "<table border=\"1\" class=\"dataframe\">\n",
       "  <thead>\n",
       "    <tr style=\"text-align: right;\">\n",
       "      <th></th>\n",
       "      <th>Time</th>\n",
       "      <th>STD</th>\n",
       "      <th>Standard Error</th>\n",
       "      <th>Average</th>\n",
       "      <th>STD/2</th>\n",
       "    </tr>\n",
       "  </thead>\n",
       "  <tbody>\n",
       "    <tr>\n",
       "      <td>0</td>\n",
       "      <td>0</td>\n",
       "      <td>0.000000</td>\n",
       "      <td>0.000000</td>\n",
       "      <td>100.000000</td>\n",
       "      <td>0.000000</td>\n",
       "    </tr>\n",
       "    <tr>\n",
       "      <td>1</td>\n",
       "      <td>5</td>\n",
       "      <td>0.872953</td>\n",
       "      <td>0.504000</td>\n",
       "      <td>44.987988</td>\n",
       "      <td>0.436476</td>\n",
       "    </tr>\n",
       "    <tr>\n",
       "      <td>2</td>\n",
       "      <td>10</td>\n",
       "      <td>3.452773</td>\n",
       "      <td>1.993459</td>\n",
       "      <td>39.562346</td>\n",
       "      <td>1.726386</td>\n",
       "    </tr>\n",
       "    <tr>\n",
       "      <td>3</td>\n",
       "      <td>20</td>\n",
       "      <td>1.659586</td>\n",
       "      <td>0.958163</td>\n",
       "      <td>32.884478</td>\n",
       "      <td>0.829793</td>\n",
       "    </tr>\n",
       "    <tr>\n",
       "      <td>4</td>\n",
       "      <td>30</td>\n",
       "      <td>3.020083</td>\n",
       "      <td>1.743646</td>\n",
       "      <td>29.248119</td>\n",
       "      <td>1.510041</td>\n",
       "    </tr>\n",
       "    <tr>\n",
       "      <td>5</td>\n",
       "      <td>60</td>\n",
       "      <td>1.624114</td>\n",
       "      <td>0.937683</td>\n",
       "      <td>27.641621</td>\n",
       "      <td>0.812057</td>\n",
       "    </tr>\n",
       "    <tr>\n",
       "      <td>6</td>\n",
       "      <td>120</td>\n",
       "      <td>2.459460</td>\n",
       "      <td>1.419970</td>\n",
       "      <td>26.085721</td>\n",
       "      <td>1.229730</td>\n",
       "    </tr>\n",
       "    <tr>\n",
       "      <td>7</td>\n",
       "      <td>180</td>\n",
       "      <td>1.637315</td>\n",
       "      <td>0.945304</td>\n",
       "      <td>28.056394</td>\n",
       "      <td>0.818657</td>\n",
       "    </tr>\n",
       "  </tbody>\n",
       "</table>\n",
       "</div>"
      ],
      "text/plain": [
       "   Time       STD  Standard Error     Average     STD/2\n",
       "0     0  0.000000        0.000000  100.000000  0.000000\n",
       "1     5  0.872953        0.504000   44.987988  0.436476\n",
       "2    10  3.452773        1.993459   39.562346  1.726386\n",
       "3    20  1.659586        0.958163   32.884478  0.829793\n",
       "4    30  3.020083        1.743646   29.248119  1.510041\n",
       "5    60  1.624114        0.937683   27.641621  0.812057\n",
       "6   120  2.459460        1.419970   26.085721  1.229730\n",
       "7   180  1.637315        0.945304   28.056394  0.818657"
      ]
     },
     "execution_count": 4,
     "metadata": {},
     "output_type": "execute_result"
    }
   ],
   "source": [
    "#Because we have multiple sheets in our excel file, we need to tell it which one we actually want. \n",
    "pd.read_excel(\"Kinetics Data.xlsx\", sheet_name = \"dppp monothiophene\")"
   ]
  },
  {
   "cell_type": "markdown",
   "metadata": {},
   "source": [
    "Ok, but just one set of data isn't that interesting. Let's load up a few, so we have interesting things to plot.\n",
    "\n",
    "Notice that this time we actually set the read-in data equal to something. The reason we're doing this is that we will want to be able to reference this data by some name. Above, all we did was read the data, then, because we didn't tell the computer to save it anywhere, it just \"forgets\" about it. This time, we'll set up a name for each of our dataframes, \"dppp\", \"m_ligand\", and \"p_ligand\"."
   ]
  },
  {
   "cell_type": "code",
   "execution_count": 7,
   "metadata": {},
   "outputs": [],
   "source": [
    "dppp = pd.read_excel(\"Kinetics Data.xlsx\", sheet_name = \"dppp monothiophene\")\n",
    "p_ligand = pd.read_excel(\"Kinetics Data.xlsx\", sheet_name = 'p-ligand monothiophene')\n",
    "m_ligand = pd.read_excel(\"Kinetics Data.xlsx\", sheet_name = 'm-ligand monothiophene')"
   ]
  },
  {
   "cell_type": "markdown",
   "metadata": {},
   "source": [
    "Use print statements to print out the contents. Note that these are less well-formatted than before. This is because the \"print\" statement overrides the normal display of the various dataframes. "
   ]
  },
  {
   "cell_type": "code",
   "execution_count": 9,
   "metadata": {},
   "outputs": [
    {
     "name": "stdout",
     "output_type": "stream",
     "text": [
      "   Time       STD  Standard Error     Average     STD/2\n",
      "0     0  0.000000        0.000000  100.000000  0.000000\n",
      "1     5  0.872953        0.504000   44.987988  0.436476\n",
      "2    10  3.452773        1.993459   39.562346  1.726386\n",
      "3    20  1.659586        0.958163   32.884478  0.829793\n",
      "4    30  3.020083        1.743646   29.248119  1.510041\n",
      "5    60  1.624114        0.937683   27.641621  0.812057\n",
      "6   120  2.459460        1.419970   26.085721  1.229730\n",
      "7   180  1.637315        0.945304   28.056394  0.818657\n",
      "   Time       STD  Standard Error     Average     STD/2\n",
      "0     0  0.000000        0.000000  100.000000  0.000000\n",
      "1     5  5.460025        3.152347   54.502747  2.730012\n",
      "2    10  0.523618        0.302311   46.197548  0.261809\n",
      "3    20  0.942655        0.544242   32.630114  0.471327\n",
      "4    30  0.920717        0.531576   23.675409  0.460358\n",
      "5    60  0.622426        0.359358   22.714234  0.311213\n",
      "6   120  1.171001        0.676078   22.426346  0.585500\n",
      "7   180  2.911523        1.680969   21.407019  1.455762\n",
      "   Time       STD  Standard Error     Average     STD/2\n",
      "0     0  0.000000        0.000000  100.000000  0.000000\n",
      "1     5  4.320531        2.494460   52.985984  2.160265\n",
      "2    10  6.275012        3.622880   45.066814  3.137506\n",
      "3    20  4.450888        2.569721   31.791683  2.225444\n",
      "4    30  2.432530        1.404422   25.541716  1.216265\n",
      "5    60  4.487303        2.590746   22.891184  2.243651\n",
      "6   120  4.520920        2.610154   25.204953  2.260460\n",
      "7   180  4.625024        2.670259   22.610031  2.312512\n"
     ]
    }
   ],
   "source": [
    "print(dppp)\n",
    "print(p_ligand)\n",
    "print(m_ligand)"
   ]
  },
  {
   "cell_type": "markdown",
   "metadata": {},
   "source": [
    "We can recover that nicer formatting by just typing \"dppp\". This however is typically not necessary.\n",
    "\n",
    "Alright, now that we have some useful and real data, we can begin to really dig in to the plotting and interactions one might want to do with a pandas dataframe. "
   ]
  },
  {
   "cell_type": "code",
   "execution_count": null,
   "metadata": {},
   "outputs": [],
   "source": []
  },
  {
   "cell_type": "code",
   "execution_count": null,
   "metadata": {},
   "outputs": [],
   "source": []
  },
  {
   "cell_type": "code",
   "execution_count": null,
   "metadata": {},
   "outputs": [],
   "source": []
  }
 ],
 "metadata": {
  "kernelspec": {
   "display_name": "Python 3",
   "language": "python",
   "name": "python3"
  },
  "language_info": {
   "codemirror_mode": {
    "name": "ipython",
    "version": 3
   },
   "file_extension": ".py",
   "mimetype": "text/x-python",
   "name": "python",
   "nbconvert_exporter": "python",
   "pygments_lexer": "ipython3",
   "version": "3.7.4"
  }
 },
 "nbformat": 4,
 "nbformat_minor": 4
}
